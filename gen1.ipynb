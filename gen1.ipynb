{
 "nbformat": 4,
 "nbformat_minor": 2,
 "metadata": {
  "language_info": {
   "name": "python",
   "codemirror_mode": {
    "name": "ipython",
    "version": 3
   },
   "version": "3.6.10-final"
  },
  "orig_nbformat": 2,
  "file_extension": ".py",
  "mimetype": "text/x-python",
  "name": "python",
  "npconvert_exporter": "python",
  "pygments_lexer": "ipython3",
  "version": 3,
  "kernelspec": {
   "name": "python361064bitpytorch10conda69ae23f658544acaab8d0995b7590331",
   "display_name": "Python 3.6.10 64-bit ('pytorch1_0': conda)"
  }
 },
 "cells": [
  {
   "cell_type": "code",
   "execution_count": 7,
   "metadata": {},
   "outputs": [],
   "source": [
    "from __future__ import print_function\n",
    "#%matplotlib inline\n",
    "import argparse\n",
    "import os\n",
    "import random\n",
    "import torch\n",
    "import torch.nn as nn\n",
    "import torch.nn.parallel\n",
    "import torch.backends.cudnn as cudnn\n",
    "import torch.optim as optim\n",
    "import torch.utils.data\n",
    "import torchvision.datasets as dset\n",
    "import torchvision.transforms as transforms\n",
    "import torchvision.utils as vutils\n",
    "import numpy as np\n",
    "import matplotlib.pyplot as plt\n",
    "import matplotlib.animation as animation\n",
    "from IPython.display import HTML\n",
    "from dataset import NTUSkeletonDataset\n",
    "from torch.utils.data import Dataset, DataLoader\n",
    "\n",
    ""
   ]
  },
  {
   "cell_type": "code",
   "execution_count": 8,
   "metadata": {},
   "outputs": [
    {
     "output_type": "stream",
     "name": "stdout",
     "text": "Random Seed:  999\n"
    },
    {
     "output_type": "execute_result",
     "data": {
      "text/plain": "<torch._C.Generator at 0x7f934f25d9d0>"
     },
     "metadata": {},
     "execution_count": 8
    }
   ],
   "source": [
    "# Set random seed for reproducibility\n",
    "manualSeed = 999\n",
    "#manualSeed = random.randint(1, 10000) # use if you want new results\n",
    "print(\"Random Seed: \", manualSeed)\n",
    "random.seed(manualSeed)\n",
    "torch.manual_seed(manualSeed)"
   ]
  },
  {
   "cell_type": "code",
   "execution_count": 9,
   "metadata": {},
   "outputs": [],
   "source": [
    "# Root directory for dataset\n",
    "dataroot = \"processed_mutual_data\"\n",
    "\n",
    "# Number of workers for dataloader\n",
    "workers = 2\n",
    "\n",
    "# Batch size during training\n",
    "batch_size = 128\n",
    "\n",
    "# Number of channels in the training images. For color images this is 3\n",
    "nc = 2\n",
    "\n",
    "# Size of z latent vector (i.e. size of generator input)\n",
    "z = 100\n",
    "\n",
    "# Number of training epochs\n",
    "num_epochs = 20\n",
    "\n",
    "# Learning rate for optimizers\n",
    "lr = 0.0005\n",
    "\n",
    "# Beta1 hyperparam for Adam optimizers\n",
    "beta1 = 0.5\n",
    "\n",
    "# Number of GPUs available. Use 0 for CPU mode.\n",
    "ngpu = 1"
   ]
  },
  {
   "cell_type": "code",
   "execution_count": 10,
   "metadata": {},
   "outputs": [],
   "source": [
    "trainset = NTUSkeletonDataset(root_dir=dataroot,pinpoint=10)\n",
    "trainloader = DataLoader(trainset, batch_size=1 ,shuffle=True, num_workers=4)"
   ]
  },
  {
   "cell_type": "code",
   "execution_count": null,
   "metadata": {},
   "outputs": [],
   "source": [
    "device = torch.device(\"cuda:0\" if (torch.cuda.is_available() and ngpu > 0) else \"cpu\")\n",
    "\n"
   ]
  },
  {
   "cell_type": "code",
   "execution_count": 11,
   "metadata": {},
   "outputs": [],
   "source": [
    "class Generator(nn.Module):\n",
    "    def __init__(self):\n",
    "        super(Generator, self).__init__()\n",
    "        self.concat_feat = None\n",
    "        def block(in_feat, out_feat, normalize=True):\n",
    "            layers = [nn.Linear(in_feat, out_feat)]\n",
    "            if normalize:\n",
    "                layers.append(nn.BatchNorm1d(out_feat,0.8))\n",
    "            layers.append(nn.ReLU())\n",
    "            return layers\n",
    "\n",
    "        def after_blocks(in_feat, out_feat):\n",
    "            layers = [nn.Dropout(0.5)]\n",
    "            layers.append(nn.Linear(in_feat, out_feat))\n",
    "\n",
    "        self.blocks_1 = nn.Sequential(\n",
    "            *block(nz, 4096)\n",
    "        )\n",
    "\n",
    "        self.blocks_2 = nn.Sequential(\n",
    "            *block(4096,4096)\n",
    "            *block(4096,4096)\n",
    "        )\n",
    "\n",
    "        self.blocks_3 = nn.Sequential(\n",
    "            *after_blocks(self.concat_feat,50)\n",
    "        )\n",
    "\n",
    "    def forward(self, z):\n",
    "        b_1 = self.blocks_1(z)\n",
    "        b_2 = self.blocks_2(b_1)\n",
    "        concat_bs = torch.cat([b_1,b_2])\n",
    "        self.concat_feat = concat_bs.shape[0]\n",
    "        output_b = self.block_3(concat_bs)\n",
    "        final_output = output_b.reshape(25,2)\n",
    "        return final_output\n",
    "        \n"
   ]
  },
  {
   "cell_type": "code",
   "execution_count": null,
   "metadata": {},
   "outputs": [],
   "source": [
    "class Discriminator(nn.Module):class Discriminator(nn.Module):\n",
    "    super(Discriminator, self).__init__()\n",
    "    self.flatten_dim = None\n",
    "    self.concat_feat = None\n",
    "\n",
    "    def block(in_feat, out_feat):\n",
    "        layers = [nn.Linear(in_feat, out_feat)]\n",
    "        layers.append(nn.ReLU())\n",
    "\n",
    "    def after_blocks(in_feat, out_feat):\n",
    "        layers = [nn.Dropout(0.5)]\n",
    "        layers.append(nn.Linear(in_feat, out_feat))\n",
    "\n",
    "    self.blocks_1 = nn.Sequential(\n",
    "        *block(self.flatten_dim, 4096)\n",
    "    )\n",
    "    self.blocks_2 = nn.Sequential(\n",
    "        *block(4096, 4096),\n",
    "        *block(4096, 4096),\n",
    "    )\n",
    "    self.blocks_3 = nn.Sequential(\n",
    "        *after_blocks(self.concat_feat,1)\n",
    "    )\n",
    "\n",
    "    def forward(self, skeleton):\n",
    "        skeleton_flatten = skeleton.reshape(50,)\n",
    "        self.flatten_dim = skeleton_flatten.shape[0]\n",
    "        b_1 = self.blocks_1(skeleton_flatten)\n",
    "        b_2 = self.blocks_2(b_1)\n",
    "        concat_bs = torch.cat([b_1,b_2])\n",
    "        self.concat_feat = concat_bs.shape[0]\n",
    "        validity = self.blocks_3(concat_bs)\n",
    "        return validity\n",
    "        \n"
   ]
  }
 ]
}